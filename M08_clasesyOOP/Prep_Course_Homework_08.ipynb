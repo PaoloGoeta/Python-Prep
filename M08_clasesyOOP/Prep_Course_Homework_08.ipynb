{
 "cells": [
  {
   "attachments": {},
   "cell_type": "markdown",
   "metadata": {},
   "source": [
    "## Clases y Programación Orientada a Objetos"
   ]
  },
  {
   "attachments": {},
   "cell_type": "markdown",
   "metadata": {},
   "source": [
    "1) Crear la clase vehículo que contenga los atributos:<br>\n",
    "Color<br>\n",
    "Si es moto, auto, camioneta ó camión<br>\n",
    "Cilindrada del motor"
   ]
  },
  {
   "cell_type": "code",
   "execution_count": 17,
   "metadata": {},
   "outputs": [],
   "source": [
    "class Vehiculo:\n",
    "    def __init__(self, color, tipo, cilindrada):\n",
    "        self.color = color\n",
    "        self.tipo = tipo\n",
    "        self.cilindrada = cilindrada\n",
    "\n",
    "Carro = Vehiculo()\n"
   ]
  },
  {
   "attachments": {},
   "cell_type": "markdown",
   "metadata": {},
   "source": [
    "2) A la clase Vehiculo creada en el punto 1, agregar los siguientes métodos:<br>\n",
    "Acelerar<br>\n",
    "Frenar<br>\n",
    "Doblar<br>"
   ]
  },
  {
   "cell_type": "code",
   "execution_count": 27,
   "metadata": {},
   "outputs": [],
   "source": [
    "class Vehiculo:\n",
    "    def __init__(self, color, tipo, cilindrada):\n",
    "        self.color = color\n",
    "        self.tipo = tipo\n",
    "        self.cilindrada = cilindrada\n",
    "        self.velocidad = 0\n",
    "        self.direccion = 0\n",
    "\n",
    "    def Acelerar(self, vel):\n",
    "        self.velocidad += vel\n",
    "\n",
    "    def Frenar(self, vel):\n",
    "        self.velocidad -= vel\n",
    "    \n",
    "    def Doblar(self, grados):\n",
    "        self.direccion += grados"
   ]
  },
  {
   "attachments": {},
   "cell_type": "markdown",
   "metadata": {},
   "source": [
    "3) Instanciar 3 objetos de la clase vehículo y ejecutar sus métodos, probar luego el resultado"
   ]
  },
  {
   "cell_type": "code",
   "execution_count": 32,
   "metadata": {},
   "outputs": [
    {
     "name": "stdout",
     "output_type": "stream",
     "text": [
      "20\n"
     ]
    }
   ],
   "source": [
    "\n",
    "a = Vehiculo('azul', 'auto', 1.4)\n",
    "b = Vehiculo('blanco', 'camioneta', 3.2)\n",
    "c = Vehiculo('amarillo', 'moto', 1)\n",
    "\n",
    "# métodos \n",
    "a.Acelerar(30)\n",
    "b.Acelerar(40)\n",
    "b.Frenar(20)\n",
    "c.Acelerar(45)\n",
    "c.Doblar(15)\n",
    "\n",
    "print(b.velocidad)"
   ]
  },
  {
   "attachments": {},
   "cell_type": "markdown",
   "metadata": {},
   "source": [
    "4) Agregar a la clase Vehiculo, un método que muestre su estado, es decir, a que velocidad se encuentra y su dirección. Y otro método que muestre color, tipo y cilindrada"
   ]
  },
  {
   "cell_type": "code",
   "execution_count": 6,
   "metadata": {},
   "outputs": [],
   "source": [
    "\n",
    "def Acelerar(self, vel):\n",
    "    self.velocidad += vel\n",
    "\n",
    "def Frenar(self, vel):\n",
    "    self.velocidad -= vel\n",
    "    \n",
    "def Doblar(self, grados):\n",
    "    self.direccion += grados\n",
    "\n",
    "def Estado(self):\n",
    "    print('Velocidad:', self.velocidad, '- Dirección:', self.direccion)\n",
    "\n",
    "def Caracteristicas(self):\n",
    "    print('Soy un@ ', self.tipo, 'de color', self.color, 'y mi cilindrada es de ', self.cilindrada)"
   ]
  },
  {
   "attachments": {},
   "cell_type": "markdown",
   "metadata": {},
   "source": [
    "5) Crear una clase que permita utilizar las funciones creadas en la práctica del módulo 7<br>\n",
    "Verificar Primo<br>\n",
    "Valor modal<br>\n",
    "Conversión grados<br>\n",
    "Factorial<br>"
   ]
  },
  {
   "cell_type": "code",
   "execution_count": 72,
   "metadata": {},
   "outputs": [],
   "source": [
    "class Operaciones:\n",
    "    def __init__(self) -> None:\n",
    "        pass\n",
    "\n",
    "\n",
    "#verificar primo    \n",
    "\n",
    "    def es_primo(a):\n",
    "        primo = True\n",
    "        for i in range(2, a):\n",
    "            if a % i == 0:\n",
    "                primo = False\n",
    "            break\n",
    "        return primo\n",
    "    \n",
    "\n",
    "\n",
    "#valor modal\n",
    "\n",
    "    def repetido(lista):\n",
    "        lista_unicos = []\n",
    "        lista_repetidos = []\n",
    "        if len(lista) == 0:\n",
    "            return None\n",
    "        for elemento in lista:\n",
    "            if elemento in lista_unicos:\n",
    "                i = lista_unicos.index(elemento)\n",
    "                lista_repetidos[i] += 1\n",
    "            else:\n",
    "                lista_unicos.append(elemento)\n",
    "                lista_repetidos.append(1)\n",
    "        repeticiones = lista_unicos[0]\n",
    "        maximo = lista_repetidos[0]\n",
    "        for i, elemento in enumerate(lista_unicos):\n",
    "            if lista_repetidos[i] > maximo:\n",
    "                repeticiones = lista_unicos[i]\n",
    "                maximo = lista_repetidos[i]\n",
    "        return repeticiones, maximo\n",
    "    \n",
    "\n",
    "\n",
    "\n",
    "#Conversión grados\n",
    "\n",
    "    def convertidor_temperatura(valor, unidad_origen, unidad_destino):\n",
    "        if (unidad_origen == \"C\" and unidad_destino == \"F\"):\n",
    "            return valor * 9/5 + 32\n",
    "        elif (unidad_origen == \"F\" and unidad_destino == \"C\"):\n",
    "            return (valor - 32) * 5/9\n",
    "        elif (unidad_origen == \"C\" and unidad_destino == \"K\"):\n",
    "            return valor + 273.15\n",
    "        elif (unidad_origen == \"K\" and unidad_destino == \"C\"):\n",
    "            return valor - 273.15\n",
    "        elif (unidad_origen == \"F\" and unidad_destino == \"K\"):\n",
    "            celsius = (valor - 32) * 5/9\n",
    "            return celsius + 273.15\n",
    "        elif (unidad_origen == \"K\" and unidad_destino == \"F\"):\n",
    "            celsius = valor - 273.15\n",
    "            return celsius * 9/5 + 32\n",
    "        else:\n",
    "            return valor \n",
    "        \n",
    "\n",
    "\n",
    "#Factorial\n",
    "            \n",
    "    def factorial(numero):\n",
    "\n",
    "        if(type(numero) != int):\n",
    "            return 'El número tiene que ser un entero'\n",
    "        elif(numero < 0):\n",
    "            return 'El número tiene que ser pósitivo'\n",
    "        else:\n",
    "            for i in range(1,numero):        \n",
    "                numero *= i\n",
    "\n",
    "        return numero\n",
    "\n"
   ]
  },
  {
   "attachments": {},
   "cell_type": "markdown",
   "metadata": {},
   "source": [
    "6) Probar las funciones incorporadas en la clase del punto 5"
   ]
  },
  {
   "cell_type": "code",
   "execution_count": 71,
   "metadata": {},
   "outputs": [
    {
     "name": "stdout",
     "output_type": "stream",
     "text": [
      "El valor más repetido es 3 y se reptie 3 veces\n"
     ]
    },
    {
     "data": {
      "text/plain": [
       "120"
      ]
     },
     "execution_count": 71,
     "metadata": {},
     "output_type": "execute_result"
    }
   ],
   "source": [
    "o = Operaciones\n",
    "\n",
    "o.es_primo(7)\n",
    "\n",
    "\n",
    "listado = [7,8,6,4,3,3,3,5,6,7,8,9,23]\n",
    "maximo, repeticiones = o.repetido(listado)\n",
    "print('El valor más repetido es', maximo, 'y se reptie', repeticiones, 'veces')\n",
    "\n",
    "o.convertidor_temperatura(31,'C','F')\n",
    "\n",
    "o.factorial(5)"
   ]
  },
  {
   "attachments": {},
   "cell_type": "markdown",
   "metadata": {},
   "source": [
    "7) Es necesario que la clase creada en el punto 5 contenga una lista, sobre la cual se apliquen las funciones incorporadas"
   ]
  },
  {
   "cell_type": "code",
   "execution_count": 5,
   "metadata": {},
   "outputs": [],
   "source": [
    "\n",
    "class Operaciones:\n",
    "\n",
    "    def __init__ (self, lista_prueba):\n",
    "        self.lista = lista_prueba\n",
    "\n",
    "    def es_primo(self):\n",
    "        for i in self.lista:\n",
    "            if (self.__es_primo(i)):\n",
    "                print('El número ', i, 'es primo')\n",
    "            else:\n",
    "                print('El número ', i, 'no es primo')\n",
    "\n",
    "\n",
    "\n",
    "    def convertidor_temperatura(self, unidad_origen, unidad_destino):\n",
    "        for i in self.lista:\n",
    "            print(i,' grados', unidad_origen, self.__convertidor_temperatura (i,unidad_origen,unidad_destino),'grados ', unidad_destino)\n",
    "\n",
    "\n",
    "\n",
    "    def factorial(self):\n",
    "        for i in self.lista:\n",
    "            print('El factorial de ', i, 'es', factorial)\n",
    "\n",
    "#verificar primo    \n",
    "\n",
    "    def __es_primo(self,a):\n",
    "        primo = True\n",
    "        for i in range(2, a):\n",
    "            if a % i == 0:\n",
    "                primo = False\n",
    "            break\n",
    "        return primo\n",
    "    \n",
    "\n",
    "\n",
    "#valor modal\n",
    "\n",
    "    def repetido(lista):\n",
    "        lista_unicos = []\n",
    "        lista_repetidos = []\n",
    "        if len(lista) == 0:\n",
    "            return None\n",
    "        for elemento in lista:\n",
    "            if elemento in lista_unicos:\n",
    "                i = lista_unicos.index(elemento)\n",
    "                lista_repetidos[i] += 1\n",
    "            else:\n",
    "                lista_unicos.append(elemento)\n",
    "                lista_repetidos.append(1)\n",
    "        repeticiones = lista_unicos[0]\n",
    "        maximo = lista_repetidos[0]\n",
    "        for i, elemento in enumerate(lista_unicos):\n",
    "            if lista_repetidos[i] > maximo:\n",
    "                repeticiones = lista_unicos[i]\n",
    "                maximo = lista_repetidos[i]\n",
    "        return repeticiones, maximo\n",
    "    \n",
    "\n",
    "\n",
    "\n",
    "#Conversión grados\n",
    "\n",
    "    def __convertidor_temperatura(self,valor, unidad_origen, unidad_destino):\n",
    "        if (unidad_origen == \"C\" and unidad_destino == \"F\"):\n",
    "            return valor * 9/5 + 32\n",
    "        elif (unidad_origen == \"F\" and unidad_destino == \"C\"):\n",
    "            return (valor - 32) * 5/9\n",
    "        elif (unidad_origen == \"C\" and unidad_destino == \"K\"):\n",
    "            return valor + 273.15\n",
    "        elif (unidad_origen == \"K\" and unidad_destino == \"C\"):\n",
    "            return valor - 273.15\n",
    "        elif (unidad_origen == \"F\" and unidad_destino == \"K\"):\n",
    "            celsius = (valor - 32) * 5/9\n",
    "            return celsius + 273.15\n",
    "        elif (unidad_origen == \"K\" and unidad_destino == \"F\"):\n",
    "            celsius = valor - 273.15\n",
    "            return celsius * 9/5 + 32\n",
    "        else:\n",
    "            return valor \n",
    "        \n",
    "\n",
    "\n",
    "#Factorial\n",
    "            \n",
    "    def factorial(self,numero):\n",
    "\n",
    "        if(type(numero) != int):\n",
    "            return 'El número tiene que ser un entero'\n",
    "        elif(numero < 0):\n",
    "            return 'El número tiene que ser pósitivo'\n",
    "        else:\n",
    "            for i in range(1,numero):        \n",
    "                numero *= i\n",
    "\n",
    "        return numero\n",
    "    \n",
    "\n",
    "\n",
    "\n",
    "\n",
    "\n",
    "\n",
    "\n"
   ]
  },
  {
   "cell_type": "code",
   "execution_count": 6,
   "metadata": {},
   "outputs": [],
   "source": [
    "o = Operaciones([1,3,4,6,9,12,17,23])"
   ]
  },
  {
   "cell_type": "code",
   "execution_count": 61,
   "metadata": {},
   "outputs": [
    {
     "name": "stdout",
     "output_type": "stream",
     "text": [
      "El número  1 es primo\n",
      "El número  3 es primo\n",
      "El número  4 no es primo\n",
      "El número  6 no es primo\n",
      "El número  9 es primo\n",
      "El número  12 no es primo\n",
      "El número  17 es primo\n",
      "El número  23 es primo\n"
     ]
    }
   ],
   "source": [
    "o.es_primo()"
   ]
  },
  {
   "cell_type": "code",
   "execution_count": 62,
   "metadata": {},
   "outputs": [
    {
     "name": "stdout",
     "output_type": "stream",
     "text": [
      "1  grados C 274.15 grados  K\n",
      "3  grados C 276.15 grados  K\n",
      "4  grados C 277.15 grados  K\n",
      "6  grados C 279.15 grados  K\n",
      "9  grados C 282.15 grados  K\n",
      "12  grados C 285.15 grados  K\n",
      "17  grados C 290.15 grados  K\n",
      "23  grados C 296.15 grados  K\n"
     ]
    }
   ],
   "source": [
    "o.convertidor_temperatura('C','K')"
   ]
  },
  {
   "cell_type": "code",
   "execution_count": 7,
   "metadata": {},
   "outputs": [
    {
     "data": {
      "text/plain": [
       "720"
      ]
     },
     "execution_count": 7,
     "metadata": {},
     "output_type": "execute_result"
    }
   ],
   "source": [
    "o.factorial(6) "
   ]
  },
  {
   "attachments": {},
   "cell_type": "markdown",
   "metadata": {},
   "source": [
    "8) Crear un archivo .py aparte y ubicar allí la clase generada en el punto anterior. Luego realizar la importación del módulo y probar alguna de sus funciones"
   ]
  },
  {
   "cell_type": "code",
   "execution_count": 1,
   "metadata": {},
   "outputs": [],
   "source": [
    "from operaciones1 import *\n",
    "\n"
   ]
  },
  {
   "cell_type": "code",
   "execution_count": null,
   "metadata": {},
   "outputs": [],
   "source": []
  },
  {
   "cell_type": "code",
   "execution_count": null,
   "metadata": {},
   "outputs": [],
   "source": []
  }
 ],
 "metadata": {
  "interpreter": {
   "hash": "c85384e4cb51c8b72350f3a8712cc8351fdc3955e32a27f9b60c6242ab125f01"
  },
  "kernelspec": {
   "display_name": "Python 3 (ipykernel)",
   "language": "python",
   "name": "python3"
  },
  "language_info": {
   "codemirror_mode": {
    "name": "ipython",
    "version": 3
   },
   "file_extension": ".py",
   "mimetype": "text/x-python",
   "name": "python",
   "nbconvert_exporter": "python",
   "pygments_lexer": "ipython3",
   "version": "3.11.5"
  }
 },
 "nbformat": 4,
 "nbformat_minor": 4
}
