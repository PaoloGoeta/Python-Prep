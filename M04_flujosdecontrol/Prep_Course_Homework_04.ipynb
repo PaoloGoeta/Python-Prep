{
 "cells": [
  {
   "attachments": {},
   "cell_type": "markdown",
   "metadata": {},
   "source": [
    "## Flujos de Control"
   ]
  },
  {
   "attachments": {},
   "cell_type": "markdown",
   "metadata": {},
   "source": [
    "1) Crear una variable que contenga un elemento del conjunto de números enteros y luego imprimir por pantalla si es mayor o menor a cero"
   ]
  },
  {
   "cell_type": "code",
   "execution_count": 2,
   "metadata": {},
   "outputs": [
    {
     "name": "stdout",
     "output_type": "stream",
     "text": [
      "Es mayor que cero\n"
     ]
    }
   ],
   "source": [
    "a=5\n",
    "if (a<0):\n",
    "    print('Es menor que cero')\n",
    "elif (a>0):\n",
    "    print ('Es mayor que cero')    \n",
    "else:\n",
    "    print('Es igual que cero')    "
   ]
  },
  {
   "attachments": {},
   "cell_type": "markdown",
   "metadata": {},
   "source": [
    "2) Crear dos variables y un condicional que informe si son del mismo tipo de dato"
   ]
  },
  {
   "cell_type": "code",
   "execution_count": 33,
   "metadata": {},
   "outputs": [
    {
     "name": "stdout",
     "output_type": "stream",
     "text": [
      "Son tipos diferentes\n"
     ]
    }
   ],
   "source": [
    "a=4\n",
    "b='4'\n",
    "if ((a) == (b)):\n",
    "    print('Son tipos iguales')\n",
    "else:\n",
    "    print('Son tipos diferentes')"
   ]
  },
  {
   "attachments": {},
   "cell_type": "markdown",
   "metadata": {},
   "source": [
    "3) Para los valores enteros del 1 al 20, imprimir por pantalla si es par o impar"
   ]
  },
  {
   "cell_type": "code",
   "execution_count": 4,
   "metadata": {},
   "outputs": [
    {
     "name": "stdout",
     "output_type": "stream",
     "text": [
      "1 Impar\n",
      "2 Par\n",
      "3 Impar\n",
      "4 Par\n",
      "5 Impar\n",
      "6 Par\n",
      "7 Impar\n",
      "8 Par\n",
      "9 Impar\n",
      "10 Par\n",
      "11 Impar\n",
      "12 Par\n",
      "13 Impar\n",
      "14 Par\n",
      "15 Impar\n",
      "16 Par\n",
      "17 Impar\n",
      "18 Par\n",
      "19 Impar\n",
      "20 Par\n"
     ]
    }
   ],
   "source": [
    "for i in range(1, 21):\n",
    "    if i % 2==0:\n",
    "        print(i, 'Par')\n",
    "    else:\n",
    "        print(i, 'Impar')"
   ]
  },
  {
   "attachments": {},
   "cell_type": "markdown",
   "metadata": {},
   "source": [
    "4) En un ciclo for mostrar para los valores entre 0 y 5 el resultado de elevarlo a la potencia igual a 3"
   ]
  },
  {
   "cell_type": "code",
   "execution_count": 9,
   "metadata": {},
   "outputs": [
    {
     "name": "stdout",
     "output_type": "stream",
     "text": [
      "el numero 0 elevado a la 3 es  0\n",
      "el numero 1 elevado a la 3 es  1\n",
      "el numero 2 elevado a la 3 es  8\n",
      "el numero 3 elevado a la 3 es  27\n",
      "el numero 4 elevado a la 3 es  64\n",
      "el numero 5 elevado a la 3 es  125\n"
     ]
    }
   ],
   "source": [
    "for i in range(0, 6):\n",
    "    print('el numero',i,'elevado a la 3 es ', i**3)"
   ]
  },
  {
   "attachments": {},
   "cell_type": "markdown",
   "metadata": {},
   "source": [
    "5) Crear una variable que contenga un número entero y realizar un ciclo for la misma cantidad de ciclos"
   ]
  },
  {
   "cell_type": "code",
   "execution_count": 11,
   "metadata": {},
   "outputs": [
    {
     "name": "stdout",
     "output_type": "stream",
     "text": [
      "0\n",
      "1\n",
      "2\n",
      "3\n",
      "4\n",
      "5\n",
      "6\n",
      "7\n"
     ]
    }
   ],
   "source": [
    "a=8\n",
    "for i in range(a):\n",
    "    print(i)"
   ]
  },
  {
   "attachments": {},
   "cell_type": "markdown",
   "metadata": {},
   "source": [
    "6) Utilizar un ciclo while para realizar el factorial de un número guardado en una variable, sólo si la variable contiene un número entero mayor a 0"
   ]
  },
  {
   "cell_type": "code",
   "execution_count": 39,
   "metadata": {},
   "outputs": [
    {
     "name": "stdout",
     "output_type": "stream",
     "text": [
      "720\n"
     ]
    }
   ],
   "source": [
    "a=6\n",
    "i=a-1\n",
    "\n",
    "while (i) >0:\n",
    "    a*=i\n",
    "    i-=1\n",
    "\n",
    "print(a)\n"
   ]
  },
  {
   "attachments": {},
   "cell_type": "markdown",
   "metadata": {},
   "source": [
    "7) Crear un ciclo for dentro de un ciclo while"
   ]
  },
  {
   "cell_type": "code",
   "execution_count": 60,
   "metadata": {},
   "outputs": [
    {
     "name": "stdout",
     "output_type": "stream",
     "text": [
      "Este es el ciclo while 1\n",
      "Este es el ciclo for 1\n",
      "Este es el ciclo while 2\n",
      "Este es el ciclo for 1\n",
      "Este es el ciclo for 2\n",
      "Este es el ciclo while 3\n",
      "Este es el ciclo for 1\n",
      "Este es el ciclo for 2\n",
      "Este es el ciclo for 3\n"
     ]
    }
   ],
   "source": [
    "a=1\n",
    "while a<4:\n",
    "    print('Este es el ciclo while ' + str(a))\n",
    "    for i in range(1, a+1):\n",
    "        print('Este es el ciclo for ' + str(i))\n",
    "    a += 1"
   ]
  },
  {
   "attachments": {},
   "cell_type": "markdown",
   "metadata": {},
   "source": [
    "8) Crear un ciclo while dentro de un ciclo for"
   ]
  },
  {
   "cell_type": "code",
   "execution_count": 68,
   "metadata": {},
   "outputs": [
    {
     "name": "stdout",
     "output_type": "stream",
     "text": [
      "Este es el ciclo # 0 del for\n",
      "   Este es el ciclo # 0 del while\n",
      "   Este es el ciclo # 1 del while\n",
      "   Este es el ciclo # 2 del while\n",
      "Este es el ciclo # 1 del for\n",
      "   Este es el ciclo # 0 del while\n",
      "   Este es el ciclo # 1 del while\n",
      "   Este es el ciclo # 2 del while\n",
      "Este es el ciclo # 2 del for\n",
      "   Este es el ciclo # 0 del while\n",
      "   Este es el ciclo # 1 del while\n",
      "   Este es el ciclo # 2 del while\n",
      "Este es el ciclo # 3 del for\n",
      "   Este es el ciclo # 0 del while\n",
      "   Este es el ciclo # 1 del while\n",
      "   Este es el ciclo # 2 del while\n",
      "Este es el ciclo # 4 del for\n",
      "   Este es el ciclo # 0 del while\n",
      "   Este es el ciclo # 1 del while\n",
      "   Este es el ciclo # 2 del while\n"
     ]
    }
   ],
   "source": [
    "\n",
    "for i in range(5):\n",
    "    print('Este es el ciclo # ' + str(i) + ' del for')\n",
    "    j = 0\n",
    "    while j < 3:\n",
    "        print('   Este es el ciclo # ' +str(j)+ ' del while')\n",
    "        j += 1\n"
   ]
  },
  {
   "attachments": {},
   "cell_type": "markdown",
   "metadata": {},
   "source": [
    "9) Imprimir los números primos existentes entre 0 y 30"
   ]
  },
  {
   "cell_type": "code",
   "execution_count": 96,
   "metadata": {},
   "outputs": [
    {
     "name": "stdout",
     "output_type": "stream",
     "text": [
      "2\n",
      "3\n",
      "5\n",
      "7\n",
      "11\n",
      "13\n",
      "17\n",
      "19\n",
      "23\n",
      "29\n"
     ]
    }
   ],
   "source": [
    "a=30\n",
    "n = 2\n",
    "primo = True\n",
    "while (n < a):\n",
    "    for i in range(2, n):\n",
    "        if (n % i == 0):\n",
    "            primo = False\n",
    "    if (primo):\n",
    "        print(n)\n",
    "    else:\n",
    "        primo = True\n",
    "    n += 1\n",
    "\n",
    "\n",
    "       \n",
    "\n",
    "\n",
    "\n"
   ]
  },
  {
   "attachments": {},
   "cell_type": "markdown",
   "metadata": {},
   "source": [
    "10) ¿Se puede mejorar el proceso del punto 9? Utilizar las sentencias break y/ó continue para tal fin"
   ]
  },
  {
   "cell_type": "code",
   "execution_count": 100,
   "metadata": {},
   "outputs": [
    {
     "name": "stdout",
     "output_type": "stream",
     "text": [
      "2\n",
      "3\n",
      "5\n",
      "7\n",
      "11\n",
      "13\n",
      "17\n",
      "19\n",
      "23\n",
      "29\n"
     ]
    }
   ],
   "source": [
    "a=30\n",
    "n = 2\n",
    "primo = True\n",
    "while (n < a):\n",
    "    for i in range(2, n):\n",
    "        if (n % i == 0):\n",
    "            primo = False\n",
    "            break\n",
    "    if (primo):\n",
    "        print(n)\n",
    "    else:\n",
    "        primo = True\n",
    "    n += 1\n",
    "    "
   ]
  },
  {
   "attachments": {},
   "cell_type": "markdown",
   "metadata": {},
   "source": [
    "11) En los puntos 9 y 10, se diseño un código que encuentra números primos y además se lo optimizó. ¿Es posible saber en qué medida se optimizó?"
   ]
  },
  {
   "cell_type": "code",
   "execution_count": 4,
   "metadata": {},
   "outputs": [
    {
     "data": {
      "text/plain": [
       "'Se disminuyó la cantidad de ciclos necesarios, para encontrar los números primos, si alguno de los números, no cumple con alguna condicional para ser primo, se salta directamente al siguiente número'"
      ]
     },
     "execution_count": 4,
     "metadata": {},
     "output_type": "execute_result"
    }
   ],
   "source": [
    "'Se disminuyó la cantidad de ciclos necesarios, para encontrar los números primos, si alguno de los números, no cumple con alguna condicional para ser primo, se salta directamente al siguiente número'"
   ]
  },
  {
   "attachments": {},
   "cell_type": "markdown",
   "metadata": {},
   "source": [
    "12) Aplicando continue, armar un ciclo while que solo imprima los valores divisibles por 12, dentro del rango de números de 100 a 300"
   ]
  },
  {
   "cell_type": "code",
   "execution_count": 2,
   "metadata": {},
   "outputs": [
    {
     "name": "stdout",
     "output_type": "stream",
     "text": [
      "108  es divisible por 12\n",
      "120  es divisible por 12\n",
      "132  es divisible por 12\n",
      "144  es divisible por 12\n",
      "156  es divisible por 12\n",
      "168  es divisible por 12\n",
      "180  es divisible por 12\n",
      "192  es divisible por 12\n",
      "204  es divisible por 12\n",
      "216  es divisible por 12\n",
      "228  es divisible por 12\n",
      "240  es divisible por 12\n",
      "252  es divisible por 12\n",
      "264  es divisible por 12\n",
      "276  es divisible por 12\n",
      "288  es divisible por 12\n",
      "300  es divisible por 12\n"
     ]
    }
   ],
   "source": [
    "a = 100\n",
    "while(a <= 300):\n",
    "    a += 1\n",
    "    if (a % 12 != 0):\n",
    "        continue\n",
    "    print(a, ' es divisible por 12')"
   ]
  },
  {
   "cell_type": "markdown",
   "metadata": {},
   "source": [
    "13) Utilizar la función **input()** que permite hacer ingresos por teclado, para encontrar números primos y dar la opción al usario de buscar el siguiente"
   ]
  },
  {
   "cell_type": "code",
   "execution_count": 1,
   "metadata": {},
   "outputs": [
    {
     "name": "stdout",
     "output_type": "stream",
     "text": [
      "1\n",
      "¿Desea encontrar el siguiente número primo?\n",
      "Se finaliza el proceso\n"
     ]
    }
   ],
   "source": [
    "n = 1\n",
    "sigue = 1\n",
    "primo = True\n",
    "while (sigue == 1):\n",
    "    for div in range(2, n):\n",
    "        if (n % div == 0):\n",
    "            primo = False\n",
    "            break\n",
    "    if (primo):\n",
    "        print(n)\n",
    "        print('¿Desea encontrar el siguiente número primo?')\n",
    "        if (input() != '1'):\n",
    "            print('Se finaliza el proceso')\n",
    "            break\n",
    "    else:\n",
    "        primo = True\n",
    "    n += 1"
   ]
  },
  {
   "attachments": {},
   "cell_type": "markdown",
   "metadata": {},
   "source": [
    "14) Crear un ciclo while que encuentre dentro del rango de 100 a 300 el primer número divisible por 3 y además múltiplo de 6"
   ]
  },
  {
   "cell_type": "code",
   "execution_count": 5,
   "metadata": {},
   "outputs": [
    {
     "name": "stdout",
     "output_type": "stream",
     "text": [
      "El primer número divisible por 3 y múltiplo de 6 es: 102\n"
     ]
    }
   ],
   "source": [
    "numero = 100\n",
    "\n",
    "while (numero <= 300):\n",
    "    if (numero % 3 == 0 and numero % 6 == 0):\n",
    "        print(\"El primero que es divisible por 3 y múltiplo de 6 es:\", numero)\n",
    "        break\n",
    "    numero += 1"
   ]
  }
 ],
 "metadata": {
  "interpreter": {
   "hash": "c85384e4cb51c8b72350f3a8712cc8351fdc3955e32a27f9b60c6242ab125f01"
  },
  "kernelspec": {
   "display_name": "Python 3 (ipykernel)",
   "language": "python",
   "name": "python3"
  },
  "language_info": {
   "codemirror_mode": {
    "name": "ipython",
    "version": 3
   },
   "file_extension": ".py",
   "mimetype": "text/x-python",
   "name": "python",
   "nbconvert_exporter": "python",
   "pygments_lexer": "ipython3",
   "version": "3.11.4"
  }
 },
 "nbformat": 4,
 "nbformat_minor": 4
}
