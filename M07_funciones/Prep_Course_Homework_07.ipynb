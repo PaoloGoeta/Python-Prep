{
 "cells": [
  {
   "attachments": {},
   "cell_type": "markdown",
   "metadata": {},
   "source": [
    "## Funciones"
   ]
  },
  {
   "attachments": {},
   "cell_type": "markdown",
   "metadata": {},
   "source": [
    "1) Crear una función que reciba un número como parámetro y devuelva True si es primo y False si no lo es"
   ]
  },
  {
   "cell_type": "code",
   "execution_count": 1,
   "metadata": {},
   "outputs": [],
   "source": [
    "def es_primo(a):\n",
    "    primo = True\n",
    "    for i in range(2, a):\n",
    "        if a % i == 0:\n",
    "            primo = False\n",
    "            break\n",
    "    return primo"
   ]
  },
  {
   "attachments": {},
   "cell_type": "markdown",
   "metadata": {},
   "source": [
    "2) Utilizando la función del punto 1, realizar otra función que reciba de parámetro una lista de números y devuelva sólo aquellos que son primos en otra lista"
   ]
  },
  {
   "cell_type": "code",
   "execution_count": 1,
   "metadata": {},
   "outputs": [],
   "source": [
    "def extrae_primos(lista):\n",
    "    lista_primos = []\n",
    "    for elemento in lista:\n",
    "        if es_primo(int(elemento)):\n",
    "            lista_primos.append(elemento)\n",
    "    return lista_primos"
   ]
  },
  {
   "attachments": {},
   "cell_type": "markdown",
   "metadata": {},
   "source": [
    "3) Crear una función que al recibir una lista de números, devuelva el que más se repite y cuántas veces lo hace. Si hay más de un \"más repetido\", que devuelva cualquiera"
   ]
  },
  {
   "cell_type": "code",
   "execution_count": 2,
   "metadata": {},
   "outputs": [],
   "source": [
    "def repetido(lista):\n",
    "    lista_unicos = []\n",
    "    lista_repetidos = []\n",
    "    if len(lista) == 0:\n",
    "        return None\n",
    "    for elemento in lista:\n",
    "        if elemento in lista_unicos:\n",
    "            i = lista_unicos.index(elemento)\n",
    "            lista_repetidos[i] += 1\n",
    "        else:\n",
    "            lista_unicos.append(elemento)\n",
    "            lista_repetidos.append(1)\n",
    "    repeticiones = lista_unicos[0]\n",
    "    maximo = lista_repetidos[0]\n",
    "    for i, elemento in enumerate(lista_unicos):\n",
    "        if lista_repetidos[i] > maximo:\n",
    "            repeticiones = lista_unicos[i]\n",
    "            maximo = lista_repetidos[i]\n",
    "    return repeticiones, maximo"
   ]
  },
  {
   "attachments": {},
   "cell_type": "markdown",
   "metadata": {},
   "source": [
    "4) Crear una función que convierta entre grados Celsius, Farenheit y Kelvin<br>\n",
    "Fórmula 1\t: (°C × 9/5) + 32 = °F<br>\n",
    "Fórmula 2\t: °C + 273.15 = °K<br>\n",
    "Debe recibir 3 parámetros: el valor, la medida de orígen y la medida de destino\n"
   ]
  },
  {
   "cell_type": "code",
   "execution_count": 6,
   "metadata": {},
   "outputs": [
    {
     "name": "stdout",
     "output_type": "stream",
     "text": [
      "31grados C en F es 87.8 F\n"
     ]
    }
   ],
   "source": [
    "def convertidor_temperatura(valor, unidad_origen, unidad_destino):\n",
    "    if (unidad_origen == \"C\" and unidad_destino == \"F\"):\n",
    "        return valor * 9/5 + 32\n",
    "    elif (unidad_origen == \"F\" and unidad_destino == \"C\"):\n",
    "        return (valor - 32) * 5/9\n",
    "    elif (unidad_origen == \"C\" and unidad_destino == \"K\"):\n",
    "        return valor + 273.15\n",
    "    elif (unidad_origen == \"K\" and unidad_destino == \"C\"):\n",
    "        return valor - 273.15\n",
    "    elif (unidad_origen == \"F\" and unidad_destino == \"K\"):\n",
    "        celsius = (valor - 32) * 5/9\n",
    "        return celsius + 273.15\n",
    "    elif (unidad_origen == \"K\" and unidad_destino == \"F\"):\n",
    "        celsius = valor - 273.15\n",
    "        return celsius * 9/5 + 32\n",
    "    else:\n",
    "        return valor \n",
    "    \n",
    "valor = 31\n",
    "unidad_origen = 'C'\n",
    "unidad_destino = 'F'\n",
    "Resultado=convertidor_temperatura(valor, unidad_origen, unidad_destino)\n",
    "print(f'{valor}grados {unidad_origen} en {unidad_destino} es {Resultado} {unidad_destino}')\n"
   ]
  },
  {
   "attachments": {},
   "cell_type": "markdown",
   "metadata": {},
   "source": [
    "5) Iterando una lista con los tres valores posibles de temperatura que recibe la función del punto 5, hacer un print para cada combinación de los mismos:"
   ]
  },
  {
   "cell_type": "code",
   "execution_count": 8,
   "metadata": {},
   "outputs": [
    {
     "name": "stdout",
     "output_type": "stream",
     "text": [
      "15 grados C son 15.00 grados C\n",
      "15 grados C son 59.00 grados F\n",
      "15 grados C son 288.15 grados K\n",
      "15 grados F son -9.44 grados C\n",
      "15 grados F son 15.00 grados F\n",
      "15 grados F son 263.71 grados K\n",
      "15 grados K son -258.15 grados C\n",
      "15 grados K son -432.67 grados F\n",
      "15 grados K son 15.00 grados K\n",
      "22 grados C son 22.00 grados C\n",
      "22 grados C son 71.60 grados F\n",
      "22 grados C son 295.15 grados K\n",
      "22 grados F son -5.56 grados C\n",
      "22 grados F son 22.00 grados F\n",
      "22 grados F son 267.59 grados K\n",
      "22 grados K son -251.15 grados C\n",
      "22 grados K son -420.07 grados F\n",
      "22 grados K son 22.00 grados K\n",
      "17 grados C son 17.00 grados C\n",
      "17 grados C son 62.60 grados F\n",
      "17 grados C son 290.15 grados K\n",
      "17 grados F son -8.33 grados C\n",
      "17 grados F son 17.00 grados F\n",
      "17 grados F son 264.82 grados K\n",
      "17 grados K son -256.15 grados C\n",
      "17 grados K son -429.07 grados F\n",
      "17 grados K son 17.00 grados K\n"
     ]
    }
   ],
   "source": [
    "temperaturas = [15, 22, 17]\n",
    "unidades = [\"C\", \"F\", \"K\"]\n",
    "\n",
    "for temperatura in temperaturas:\n",
    "    for unidad_origen in unidades:\n",
    "        for unidad_destino in unidades:\n",
    "            resultado = convertidor_temperatura(temperatura, unidad_origen, unidad_destino)\n",
    "            print(f\"{temperatura} grados {unidad_origen} son {resultado:.2f} grados {unidad_destino}\")"
   ]
  },
  {
   "attachments": {},
   "cell_type": "markdown",
   "metadata": {},
   "source": [
    "6) Armar una función que devuelva el factorial de un número. Tener en cuenta que el usuario puede equivocarse y enviar de parámetro un número no entero o negativo"
   ]
  },
  {
   "cell_type": "code",
   "execution_count": 7,
   "metadata": {},
   "outputs": [],
   "source": [
    "def factorial(numero):\n",
    "    if(type(numero) != int):\n",
    "        return 'El número tiene que ser un entero'\n",
    "    if(numero < 0):\n",
    "        return 'El número tiene que ser pósitivo'\n",
    "    if (numero > 1):\n",
    "        numero *=  factorial(numero - 1)\n",
    "    return numero"
   ]
  }
 ],
 "metadata": {
  "interpreter": {
   "hash": "c85384e4cb51c8b72350f3a8712cc8351fdc3955e32a27f9b60c6242ab125f01"
  },
  "kernelspec": {
   "display_name": "Python 3 (ipykernel)",
   "language": "python",
   "name": "python3"
  },
  "language_info": {
   "codemirror_mode": {
    "name": "ipython",
    "version": 3
   },
   "file_extension": ".py",
   "mimetype": "text/x-python",
   "name": "python",
   "nbconvert_exporter": "python",
   "pygments_lexer": "ipython3",
   "version": "3.11.4"
  }
 },
 "nbformat": 4,
 "nbformat_minor": 4
}
